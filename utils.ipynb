{
 "cells": [
  {
   "cell_type": "code",
   "execution_count": null,
   "id": "053f8e43",
   "metadata": {},
   "outputs": [],
   "source": [
    "import pandas as pd\n",
    "import os\n",
    "import ROOT"
   ]
  },
  {
   "cell_type": "code",
   "execution_count": null,
   "id": "4cf36755",
   "metadata": {},
   "outputs": [],
   "source": [
    "def parse_efficiency_table(csv_table_path,filter_status = ''):\n",
    "    # Read the CSV file into a DataFrame\n",
    "    df = pd.read_csv(csv_table_path)\n",
    "    if filter_status == '':\n",
    "        return df\n",
    "    else:\n",
    "        return df[df['last_global'] == filter_status]"
   ]
  },
  {
   "cell_type": "code",
   "execution_count": null,
   "id": "b993b758",
   "metadata": {},
   "outputs": [],
   "source": [
    "example_table = '../data/grafana_efficiency_table.csv'"
   ]
  },
  {
   "cell_type": "code",
   "execution_count": null,
   "id": "779aa2b0",
   "metadata": {
    "scrolled": true
   },
   "outputs": [],
   "source": [
    "def get_completed_runs(grafana_table_path):\n",
    "    \"\"\"Return a list of the completed runs\"\"\"\n",
    "    df = parse_efficiency_table(grafana_table_path,filter_status='done')\n",
    "    return df['run_number'].tolist()"
   ]
  },
  {
   "cell_type": "code",
   "execution_count": null,
   "id": "bd37c2b3",
   "metadata": {},
   "outputs": [],
   "source": [
    "def get_completed_in_era(grafana_table_path,era):\n",
    "    df = parse_efficiency_table(grafana_table_path,filter_status='done')\n",
    "    df = df[df['last_era'] == era]\n",
    "    return df['run_number'].tolist()"
   ]
  },
  {
   "cell_type": "code",
   "execution_count": null,
   "id": "24d0c9bf",
   "metadata": {},
   "outputs": [],
   "source": [
    "def get_completed_runs_longer_than(grafana_table_path,intLumi):\n",
    "    \"\"\"Return a list of the completed runs longer than intLumi 1/pb\"\"\"\n",
    "    df = parse_efficiency_table(grafana_table_path,filter_status='done')\n",
    "    df = df[df['last_lumi'] > intLumi]\n",
    "    return df['run_number'].tolist()"
   ]
  },
  {
   "cell_type": "code",
   "execution_count": null,
   "id": "2fd4779c",
   "metadata": {},
   "outputs": [],
   "source": [
    "def getPlot(filename,sector,station,hist_pattern):\n",
    "    \"\"\"Get the track hit distribution from the DQM file\"\"\"\n",
    "    file = ROOT.TFile(filename)\n",
    "    arm = 0 if sector == '45' else 1\n",
    "    hist_path = hist_pattern.format(\n",
    "        sector=sector,\n",
    "        station=station,\n",
    "        arm=arm\n",
    "    )\n",
    "    \n",
    "    if not file:\n",
    "        print(f'Failed to open file: {filename}')\n",
    "        file.Close()\n",
    "        return None\n",
    "    \n",
    "    h = file.Get(hist_path)\n",
    "    if not h:\n",
    "        print(f'Failed to retrieve histogram: {hist_path}')\n",
    "        file.Close()\n",
    "        return None\n",
    "    \n",
    "    # Create a copy of the histogram\n",
    "    hist_class = h.Class().GetName()\n",
    "    if hist_class == 'TH1D':\n",
    "        hist = ROOT.TH1D(h)\n",
    "    elif hist_class == 'TH2D':\n",
    "        hist = ROOT.TH2D(h)\n",
    "    else:\n",
    "        print(f'Found histogram of non-supported class: {hist_class}')\n",
    "        file.Close()\n",
    "        return None\n",
    "        \n",
    "    # Pass the ownership to the top-level application\n",
    "    hist.SetDirectory(0)\n",
    "    \n",
    "    return hist"
   ]
  },
  {
   "cell_type": "code",
   "execution_count": null,
   "id": "8dd64318",
   "metadata": {},
   "outputs": [],
   "source": [
    "def merge_efficiency_analysis_output(runs,input_dir,output_file_path):\n",
    "    checkSum = False\n",
    "    input_file_pattern = '{run}/outputEfficiencyAnalysisDQMHarvester_run{run}.root'\n",
    "    if os.path.exists(output_file_path):\n",
    "        print(output_file_path+' already existed')\n",
    "        print('Moving it to '+output_file_path+'.old')\n",
    "        os.rename(output_file_path,output_file_path+'.old')\n",
    "    if os.path.exists(output_file_path+'.tmp'):\n",
    "        os.remove(output_file_path+'.tmp')\n",
    "    \n",
    "    plotToCheck = 'DQMData/Run 999999/Arm{arm}/Run summary/st{station}/rp3/h2AuxEfficiencyMap_arm{arm}_st{station}_rp3_pl0'\n",
    "    realSumEntries = 0\n",
    "    \n",
    "    # Get all the output files and hadd them\n",
    "    input_file_paths = []\n",
    "    for run in runs:\n",
    "        input_file_path = input_dir+'/'+input_file_pattern.format(run=run)\n",
    "        input_file_paths.append(input_file_path)\n",
    "        if checkSum:\n",
    "            hist = getPlot(input_file_path,'56','2',plotToCheck)\n",
    "            entries = hist.GetEntries()\n",
    "            realSumEntries += entries        \n",
    "    \n",
    "    # Save to a temporary output, then re-create the efficiency histograms\n",
    "    hadd_command = 'hadd {output_file} {input_files}'.format(\n",
    "        output_file = output_file_path+'.tmp',\n",
    "        input_files = ' '.join(input_file_paths)\n",
    "    )\n",
    "    os.system(hadd_command)\n",
    "    \n",
    "    if checkSum:\n",
    "        hist = getPlot(output_file_path+'.tmp','56','2',plotToCheck)\n",
    "        finalEntries = hist.GetEntries()\n",
    "        print('The total entries in the summed hist are '+str(finalEntries))\n",
    "        print('The sum of all entries of the addenda is '+str(realSumEntries))\n",
    "        \n",
    "        \n",
    "    # Re-create efficiency histograms with aggregated num/den\n",
    "    sectors = ['45','56']\n",
    "    stations = ['0','2']\n",
    "    planes = [0,1,2,3,4,5]\n",
    "    efficiency_num_pattern = 'DQMData/Run 999999/Arm{arm}/Run summary/st{station}/rp3/h2AuxEfficiencyMap_arm{arm}_st{station}_rp3_pl{plane}'\n",
    "    efficiency_den_pattern = 'DQMData/Run 999999/Arm{arm}/Run summary/st{station}/rp3/h2EfficiencyNormalizationMap_arm{arm}_st{station}_rp3_pl{plane}'\n",
    "    ofile = ROOT.TFile(output_file_path,'RECREATE')\n",
    "    for sector in sectors:\n",
    "        arm = 0 if sector == '45' else 1\n",
    "        for station in stations:\n",
    "            ofile.mkdir('DQMData/Run 999999/Arm{arm}/Run summary/st{station}/rp3/'.format(arm=arm,station=station))\n",
    "            for plane in planes:\n",
    "                efficiency_num_pattern_plane = efficiency_num_pattern.format(arm='{arm}',station='{station}',plane=plane)\n",
    "                efficiency_den_pattern_plane = efficiency_den_pattern.format(arm='{arm}',station='{station}',plane=plane)\n",
    "                hist_num = getPlot(output_file_path+'.tmp',sector,station,efficiency_num_pattern_plane)\n",
    "                hist_den = getPlot(output_file_path+'.tmp',sector,station,efficiency_den_pattern_plane)\n",
    "                ofile.cd('DQMData/Run 999999/Arm{arm}/Run summary/st{station}/rp3/'.format(arm=arm,station=station))\n",
    "                hist_num.Write()\n",
    "                hist_den.Write()\n",
    "                hist_eff = hist_num.Clone()\n",
    "                name='h2EfficiencyMap_arm{arm}_st{station}_rp3_pl{plane}'.format(arm=arm,station=station,plane=plane)\n",
    "                hist_eff.SetNameTitle(name,name+';x (mm);y (mm)')\n",
    "                hist_eff.Divide(hist_den)\n",
    "                hist_eff.Write()\n",
    "    ofile.Close()\n",
    "    \n",
    "    os.remove(output_file_path+'.tmp')"
   ]
  },
  {
   "cell_type": "markdown",
   "id": "87103c98",
   "metadata": {},
   "source": [
    "## Generate avg efficiency files here"
   ]
  },
  {
   "cell_type": "code",
   "execution_count": null,
   "id": "bee6f788",
   "metadata": {},
   "outputs": [],
   "source": [
    "era = 'Run2023D'\n",
    "\n",
    "input_dir = '/eos/cms/store/group/dpg_ctpps/comm_ctpps/pps-automation/dev/pps-test-re-tracking-efficiency/test_efficiency_era/pps-test-re-tracking-efficiency'\n",
    "runs = get_completed_in_era(example_table,era)\n",
    "output_file_path = 'plots/outputEfficiencyAnalysisDQMHarvester_'+era+'.root'\n",
    "merge_efficiency_analysis_output(runs,input_dir,output_file_path)\n"
   ]
  },
  {
   "cell_type": "code",
   "execution_count": null,
   "id": "1df95a35",
   "metadata": {},
   "outputs": [],
   "source": [
    "intLumi = 200\n",
    "get_completed_runs_longer_than(example_table,intLumi)\n"
   ]
  },
  {
   "cell_type": "code",
   "execution_count": null,
   "id": "3d6a3e69",
   "metadata": {},
   "outputs": [],
   "source": []
  }
 ],
 "metadata": {
  "@webio": {
   "lastCommId": null,
   "lastKernelId": null
  },
  "kernelspec": {
   "display_name": "Python 3",
   "language": "python",
   "name": "python3"
  },
  "language_info": {
   "codemirror_mode": {
    "name": "ipython",
    "version": 3
   },
   "file_extension": ".py",
   "mimetype": "text/x-python",
   "name": "python",
   "nbconvert_exporter": "python",
   "pygments_lexer": "ipython3",
   "version": "3.12.11"
  }
 },
 "nbformat": 4,
 "nbformat_minor": 5
}
